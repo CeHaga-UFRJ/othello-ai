{
 "cells": [
  {
   "cell_type": "markdown",
   "metadata": {},
   "source": [
    "# Treinamento CNN\n",
    "Carlos Bravo, Lucas Araujo e Markson Arguello"
   ]
  },
  {
   "cell_type": "markdown",
   "metadata": {},
   "source": [
    "## Imports"
   ]
  },
  {
   "cell_type": "code",
   "execution_count": 47,
   "metadata": {},
   "outputs": [],
   "source": [
    "import numpy as np\n",
    "import pandas as pd\n",
    "from keras.models import Sequential\n",
    "from keras.layers import Conv2D\n",
    "from keras.layers import Flatten\n",
    "from keras.layers import Dense\n",
    "from keras.callbacks import ModelCheckpoint\n",
    "import pickle"
   ]
  },
  {
   "cell_type": "markdown",
   "metadata": {},
   "source": [
    "## Generate dataset from moves"
   ]
  },
  {
   "cell_type": "code",
   "execution_count": null,
   "metadata": {},
   "outputs": [],
   "source": [
    "def convert_input(board, player_icon, enemy_icon, board_size=8):\n",
    "    new_board1 = list(\n",
    "        map(lambda l: list(map(lambda x: 1 if x == player_icon else 0, l)), board))\n",
    "    new_board2 = list(\n",
    "        map(lambda l: list(map(lambda x: 1 if x == enemy_icon else 0, l)), board))\n",
    "    new_board = np.zeros((board_size, board_size, 2), dtype=int)\n",
    "    new_board[:, :, 0] = new_board1\n",
    "    new_board[:, :, 1] = new_board2\n",
    "    return new_board\n",
    "\n",
    "\n",
    "def check_valid_move(board, move, player_icon, enemy_icon, empty_icon, board_size=8):\n",
    "    for i in range(-1, 2):\n",
    "        for j in range(-1, 2):\n",
    "            if (i != 0 or j != 0):\n",
    "                # Check if the move is valid\n",
    "                if (move[0] + i >= 0 and move[0] + i < board_size and move[1] + j >= 0 and move[1] + j < board_size):\n",
    "                    if (board[move[0] + i][move[1] + j] == enemy_icon):\n",
    "                        # Check if there is a player icon in the direction\n",
    "                        k = 2\n",
    "                        while (move[0] + i*k >= 0 and move[0] + i*k < board_size and move[1] + j*k >= 0 and move[1] + j*k < board_size):\n",
    "                            if (board[move[0] + i*k][move[1] + j*k] == player_icon):\n",
    "                                return True\n",
    "                            if (board[move[0] + i*k][move[1] + j*k] == empty_icon):\n",
    "                                break\n",
    "                            k += 1\n",
    "    return False\n",
    "\n",
    "\n",
    "def generate_boards(board, moveNum):\n",
    "    x, y = moveNum // 8, moveNum % 8\n",
    "    x_flip, y_flip = x, 7 - y\n",
    "    flipped = np.fliplr(board)\n",
    "    for i in range(4):\n",
    "        # Rotate board and move\n",
    "        yield np.rot90(board, i), x*8 + y\n",
    "        yield np.rot90(flipped, i), x_flip*8 + y_flip\n",
    "        x, y = 7-y, x\n",
    "        x_flip, y_flip = 7-y_flip, x_flip\n",
    "\n",
    "def create_rows(row):\n",
    "    rows_set = set()\n",
    "\n",
    "    # Players icons\n",
    "    player_icon = 'X'\n",
    "    enemy_icon = 'O'\n",
    "    empty_icon = '*'\n",
    "\n",
    "    # Get moves\n",
    "    moves_str = df.iloc[row, 0]\n",
    "    moves = list(map(\n",
    "        lambda x: (ord(x[0]) - ord('a'), int(x[1]) - 1),\n",
    "        [moves_str[k:k+2] for k in range(0, len(moves_str), 2)]\n",
    "    ))\n",
    "\n",
    "    # Create empty board\n",
    "    board = [[empty_icon for i in range(8)] for j in range(8)]\n",
    "    board[3][3] = enemy_icon\n",
    "    board[4][4] = enemy_icon\n",
    "    board[3][4] = player_icon\n",
    "    board[4][3] = player_icon\n",
    "    \n",
    "    # For each move\n",
    "    for move in moves:\n",
    "        # If move in invalid, change icons back\n",
    "        if (not check_valid_move(board, move, player_icon, enemy_icon, empty_icon)):\n",
    "            player_icon, enemy_icon = enemy_icon, player_icon\n",
    "\n",
    "        # Get move in number format\n",
    "        move_num = move[0] * 8 + move[1]\n",
    "        # Add boards to row_array\n",
    "        for board_rot, move_rot in generate_boards(board, move_num):\n",
    "            rows_set.add(matrix_to_int(convert_input(\n",
    "                board_rot, player_icon, enemy_icon), move_rot))\n",
    "            # print_board_model(convert_input(board_rot, player_icon, enemy_icon), move_rot)\n",
    "            # print('='*20)\n",
    "\n",
    "        # Update board\n",
    "        board[move[0]][move[1]] = player_icon\n",
    "        for i in range(-1, 2):\n",
    "            for j in range(-1, 2):\n",
    "                if (i == 0 and j == 0):\n",
    "                    continue\n",
    "                # Check if the move is valid\n",
    "                if (move[0] + i >= 0 and move[0] + i < 8 and move[1] + j >= 0 and move[1] + j < 8):\n",
    "                    if (board[move[0] + i][move[1] + j] == enemy_icon):\n",
    "                        # Check if there is a player icon in the direction\n",
    "                        k = 2\n",
    "                        while (move[0] + i*k >= 0 and move[0] + i*k < 8 and move[1] + j*k >= 0 and move[1] + j*k < 8):\n",
    "                            if (board[move[0] + i*k][move[1] + j*k] == player_icon):\n",
    "                                for l in range(1, k):\n",
    "                                    board[move[0] + i*l][move[1] +\n",
    "                                                         j*l] = player_icon\n",
    "                                break\n",
    "                            if (board[move[0] + i*k][move[1] + j*k] == empty_icon):\n",
    "                                break\n",
    "                            k += 1\n",
    "        player_icon, enemy_icon = enemy_icon, player_icon\n",
    "    return rows_set\n",
    "\n",
    "def matrix_to_int(board, move):\n",
    "    return sum([int(board[i][j][k]) * 2**(i + j*8 + k*64) for i in range(len(board)) for j in range(len(board[0])) for k in range(len(board[0][0]))]) * 100 + move\n",
    "\n",
    "def int_to_matrix(board_int):\n",
    "    board = np.zeros((8,8,2))\n",
    "    move = board_int % 100\n",
    "    board_int = board_int // 100\n",
    "    for k in range(2):\n",
    "        for j in range(8):\n",
    "            for i in range(8):\n",
    "                board[i][j][k] = board_int % 2\n",
    "                board_int = board_int // 2\n",
    "    return board, move"
   ]
  },
  {
   "cell_type": "code",
   "execution_count": null,
   "metadata": {},
   "outputs": [],
   "source": [
    "# Read dataset and create moves set\n",
    "df = pd.read_csv('data/othello_dataset.csv')\n",
    "df = df.iloc[:, 2:]\n",
    "\n",
    "moves_set = set()\n",
    "for row in range(len(df)):\n",
    "    if (row % 100 == 0):\n",
    "        print(f'Processed {row} rows', end='\\r')\n",
    "    moves_set.update(create_rows(row))\n",
    "print()\n",
    "\n",
    "with open('data/moves.pickle', 'wb') as f:\n",
    "    pickle.dump(moves_set, f)"
   ]
  },
  {
   "cell_type": "markdown",
   "metadata": {},
   "source": [
    "## Create model"
   ]
  },
  {
   "cell_type": "code",
   "execution_count": 15,
   "metadata": {},
   "outputs": [],
   "source": [
    "def create_model(layers = [64,64,128,128], board_size = 8):\n",
    "    model = Sequential()\n",
    "    model.add(Conv2D(layers[0], 3, padding='same', input_shape = (board_size, board_size, 2)))\n",
    "    for layer in layers[1:]:\n",
    "        model.add(Conv2D(layer, 3, padding='same'))\n",
    "    model.add(Flatten())\n",
    "    model.add(Dense(units = 128))\n",
    "    model.add(Dense(units = 64, activation = 'sigmoid'))\n",
    "    return model"
   ]
  },
  {
   "cell_type": "code",
   "execution_count": 16,
   "metadata": {},
   "outputs": [],
   "source": [
    "def int_to_matrix(board_int):\n",
    "    board = np.zeros((8,8,2))\n",
    "    move = board_int % 100\n",
    "    board_int = board_int // 100\n",
    "    for k in range(2):\n",
    "        for j in range(8):\n",
    "            for i in range(8):\n",
    "                board[i][j][k] = board_int % 2\n",
    "                board_int = board_int // 2\n",
    "    return board, move"
   ]
  },
  {
   "cell_type": "code",
   "execution_count": 17,
   "metadata": {},
   "outputs": [],
   "source": [
    "model_checkpoint_callback = ModelCheckpoint(\n",
    "    filepath='ckpt/weights.{epoch:02d}-{val_accuracy:.2f}.hdf5',\n",
    "    save_weights_only=True,\n",
    "    monitor='val_accuracy',\n",
    "    mode='max',\n",
    "    save_best_only=True)"
   ]
  },
  {
   "cell_type": "code",
   "execution_count": 5,
   "metadata": {},
   "outputs": [],
   "source": [
    "boards = []\n",
    "moves = []\n",
    "MAX = 2**12\n",
    "i = 0\n",
    "\n",
    "rows = pickle.load(open('data/moves.pickle', 'rb'))\n",
    "for row in rows:\n",
    "    if(i == MAX): break\n",
    "    board, move = int_to_matrix(row)\n",
    "    boards.append(board)\n",
    "    moves.append(move)\n",
    "    i += 1"
   ]
  },
  {
   "cell_type": "code",
   "execution_count": 18,
   "metadata": {},
   "outputs": [],
   "source": [
    "model = create_model(board_size = 8)\n",
    "model.compile(optimizer = 'adam', loss = 'sparse_categorical_crossentropy', metrics = ['accuracy'])"
   ]
  },
  {
   "cell_type": "code",
   "execution_count": 19,
   "metadata": {},
   "outputs": [
    {
     "name": "stdout",
     "output_type": "stream",
     "text": [
      "Epoch 1/5\n",
      "103/103 [==============================] - 9s 73ms/step - loss: 3.1429 - accuracy: 0.1694 - val_loss: 2.3305 - val_accuracy: 0.3390\n",
      "Epoch 2/5\n",
      "103/103 [==============================] - 8s 74ms/step - loss: 2.4524 - accuracy: 0.2836 - val_loss: 2.1388 - val_accuracy: 0.3866\n",
      "Epoch 3/5\n",
      "103/103 [==============================] - 8s 75ms/step - loss: 2.2599 - accuracy: 0.3199 - val_loss: 2.1384 - val_accuracy: 0.3695\n",
      "Epoch 4/5\n",
      "103/103 [==============================] - 8s 74ms/step - loss: 2.1501 - accuracy: 0.3526 - val_loss: 2.0572 - val_accuracy: 0.3939\n",
      "Epoch 5/5\n",
      "103/103 [==============================] - 8s 79ms/step - loss: 2.0626 - accuracy: 0.3694 - val_loss: 2.1202 - val_accuracy: 0.3841\n"
     ]
    },
    {
     "data": {
      "text/plain": [
       "<keras.callbacks.History at 0x7fd808f5c0d0>"
      ]
     },
     "execution_count": 19,
     "metadata": {},
     "output_type": "execute_result"
    },
    {
     "ename": "",
     "evalue": "",
     "output_type": "error",
     "traceback": [
      "\u001b[1;31mThe Kernel crashed while executing code in the the current cell or a previous cell. Please review the code in the cell(s) to identify a possible cause of the failure. Click <a href='https://aka.ms/vscodeJupyterKernelCrash'>here</a> for more info. View Jupyter <a href='command:jupyter.viewOutput'>log</a> for further details."
     ]
    }
   ],
   "source": [
    "model.fit(\n",
    "    np.array(boards),\n",
    "    np.array(moves),\n",
    "    epochs = 5,\n",
    "    validation_split = 0.2,\n",
    "    callbacks = [model_checkpoint_callback],\n",
    "    shuffle = True\n",
    ")"
   ]
  },
  {
   "cell_type": "code",
   "execution_count": 8,
   "metadata": {},
   "outputs": [
    {
     "name": "stdout",
     "output_type": "stream",
     "text": [
      "1/1 [==============================] - 0s 375ms/step\n"
     ]
    },
    {
     "data": {
      "text/plain": [
       "array([[ 0.       ,  0.       ,  0.       ,  6.070531 ,  7.376768 ,\n",
       "         9.703967 ,  8.648658 ,  0.       ,  0.       ,  0.       ,\n",
       "         5.4359097,  4.1048217,  0.       ,  4.576165 ,  3.409514 ,\n",
       "         6.401151 ,  0.       ,  0.       ,  0.       ,  9.659093 ,\n",
       "         0.       ,  6.708563 ,  0.       ,  6.8088517,  0.       ,\n",
       "         0.       ,  7.061118 ,  0.       ,  0.       , 12.228232 ,\n",
       "         0.       ,  6.333892 ,  0.       ,  0.       ,  7.1435585,\n",
       "         0.       ,  0.       ,  7.3747654,  0.       ,  7.452928 ,\n",
       "         0.       ,  0.       , 14.761819 ,  0.       , 10.396502 ,\n",
       "         0.       ,  0.       , 11.362385 ,  0.       ,  0.       ,\n",
       "         0.       , 13.120791 ,  0.       ,  8.995317 ,  8.009962 ,\n",
       "        17.54161  ,  0.       ,  0.       , 25.056587 ,  0.       ,\n",
       "         7.015821 ,  7.867293 ,  0.       ,  0.       ]], dtype=float32)"
      ]
     },
     "execution_count": 8,
     "metadata": {},
     "output_type": "execute_result"
    }
   ],
   "source": [
    "model.predict(boards[1].reshape(1, 8, 8, 2))"
   ]
  }
 ],
 "metadata": {
  "kernelspec": {
   "display_name": "Python 3.9.13 ('base')",
   "language": "python",
   "name": "python3"
  },
  "language_info": {
   "codemirror_mode": {
    "name": "ipython",
    "version": 3
   },
   "file_extension": ".py",
   "mimetype": "text/x-python",
   "name": "python",
   "nbconvert_exporter": "python",
   "pygments_lexer": "ipython3",
   "version": "3.9.13"
  },
  "orig_nbformat": 4,
  "vscode": {
   "interpreter": {
    "hash": "f27ef01a36b131bc97a3bb03ca321973cf267a99a974783792b47d63ba599235"
   }
  }
 },
 "nbformat": 4,
 "nbformat_minor": 2
}
